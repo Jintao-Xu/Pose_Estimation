{
 "cells": [
  {
   "cell_type": "code",
   "execution_count": 1,
   "metadata": {},
   "outputs": [],
   "source": [
    "import cv2\n",
    "import numpy as np\n",
    "\n",
    "# Specify the paths for the 2 files\n",
    "protoFile = \"pose_deploy_linevec_faster_4_stages.prototxt\"\n",
    "weightsFile = \"pose_iter_160000.caffemodel\"\n",
    "\n",
    "# Read the network into Memory\n",
    "net = cv2.dnn.readNetFromCaffe(protoFile, weightsFile)"
   ]
  },
  {
   "cell_type": "code",
   "execution_count": 2,
   "metadata": {},
   "outputs": [],
   "source": [
    "# Read image\n",
    "frame = cv2.imread(\"single.jpeg\")\n",
    "frameWidth = frame.shape[1]\n",
    "frameHeight = frame.shape[0]\n",
    "threshold = 0.1\n",
    "\n",
    "# Specify the input image dimensions\n",
    "inWidth = 368\n",
    "inHeight = 368\n",
    "\n",
    "# Prepare the frame to be fed to the network\n",
    "inpBlob = cv2.dnn.blobFromImage(frame, 1.0 / 255, (inWidth, inHeight), (0, 0, 0), swapRB=False, crop=False)\n",
    "\n",
    "# Set the prepared object as the input blob of the network\n",
    "net.setInput(inpBlob)"
   ]
  },
  {
   "cell_type": "code",
   "execution_count": 3,
   "metadata": {},
   "outputs": [],
   "source": [
    "output = net.forward()"
   ]
  },
  {
   "cell_type": "code",
   "execution_count": 4,
   "metadata": {},
   "outputs": [],
   "source": [
    "H = output.shape[2]\n",
    "W = output.shape[3]\n",
    "# Empty list to store the detected keypoints\n",
    "points = []\n",
    "nPoints = 15\n",
    "frameCopy = np.copy(frame)\n",
    "\n",
    "for i in range(nPoints):\n",
    "    # confidence map of corresponding body's part.\n",
    "    probMap = output[0, i, :, :]\n",
    "\n",
    "    # Find global maxima of the probMap.\n",
    "    minVal, prob, minLoc, point = cv2.minMaxLoc(probMap)\n",
    "    \n",
    "    # Scale the point to fit on the original image\n",
    "    x = (frameWidth * point[0]) / W\n",
    "    y = (frameHeight * point[1]) / H\n",
    "\n",
    "    if prob > threshold : \n",
    "        cv2.circle(frameCopy, (int(x), int(y)), 8, (0, 255, 255), thickness=-1, lineType=cv2.FILLED)\n",
    "        cv2.putText(frameCopy, \"{}\".format(i), (int(x), int(y)), cv2.FONT_HERSHEY_SIMPLEX, 1, (0, 0, 255), 2, lineType=cv2.LINE_AA)\n",
    "\n",
    "        # Add the point to the list if the probability is greater than the threshold\n",
    "        points.append((int(x), int(y)))\n",
    "    else :\n",
    "        points.append(None)\n",
    "\n",
    "# cv2.imshow(\"Output-Keypoints\",frame)\n",
    "# cv2.waitKey(0)\n",
    "# cv2.destroyAllWindows()"
   ]
  },
  {
   "cell_type": "code",
   "execution_count": 6,
   "metadata": {},
   "outputs": [],
   "source": [
    "Head = 0\n",
    "Neck = 1\n",
    "Right_Shoulder = 2\n",
    "Right_Elbow = 3\n",
    "Right_Wrist = 4\n",
    "Left_Shoulder = 5\n",
    "Left_Elbow = 6\n",
    "Left_Wrist = 7\n",
    "Right_Hip = 8\n",
    "Right_Knee = 9\n",
    "Right_Ankle =10\n",
    "Left_Hip =11\n",
    "Left_Knee =12\n",
    "Left_Ankle =13\n",
    "Chest =14\n",
    "Background = 15"
   ]
  },
  {
   "cell_type": "code",
   "execution_count": 5,
   "metadata": {},
   "outputs": [],
   "source": [
    "POSE_PAIRS = [[0,1], [1,2], [2,3], [3,4], [1,5], [5,6], [6,7], [1,14], [14,8], [8,9], [9,10], [14,11], [11,12], [12,13] ]\n",
    "for pair in POSE_PAIRS:\n",
    "    partA = pair[0]\n",
    "    partB = pair[1]\n",
    "\n",
    "    if points[partA] and points[partB]:\n",
    "        cv2.line(frameCopy, points[partA], points[partB], (0, 255, 0), 3)"
   ]
  },
  {
   "cell_type": "code",
   "execution_count": 6,
   "metadata": {},
   "outputs": [
    {
     "data": {
      "text/plain": [
       "True"
      ]
     },
     "execution_count": 6,
     "metadata": {},
     "output_type": "execute_result"
    }
   ],
   "source": [
    "cv2.imshow('Output-Keypoints', frameCopy)\n",
    "cv2.imshow('Output-Skeleton', frame)\n",
    "\n",
    "\n",
    "cv2.imwrite('Output-Keypoints.jpg', frameCopy)\n",
    "cv2.imwrite('Output-Skeleton.jpg', frame)\n",
    "# cv2.waitKey(0)"
   ]
  },
  {
   "cell_type": "code",
   "execution_count": 7,
   "metadata": {},
   "outputs": [
    {
     "name": "stdout",
     "output_type": "stream",
     "text": [
      "[(347, 125), (333, 229), (250, 271), (236, 375), (222, 480), (417, 271), (417, 396), (389, 500), (292, 500), (306, 667), (306, 834), (347, 500), (347, 667), (333, 793), (333, 375)]\n"
     ]
    }
   ],
   "source": [
    "print(points)"
   ]
  }
 ],
 "metadata": {
  "kernelspec": {
   "display_name": "Python 3.8.5 ('base')",
   "language": "python",
   "name": "python3"
  },
  "language_info": {
   "codemirror_mode": {
    "name": "ipython",
    "version": 3
   },
   "file_extension": ".py",
   "mimetype": "text/x-python",
   "name": "python",
   "nbconvert_exporter": "python",
   "pygments_lexer": "ipython3",
   "version": "3.8.5"
  },
  "orig_nbformat": 4,
  "vscode": {
   "interpreter": {
    "hash": "9e3a3c5aaffc788b13598d98cc6aea0b83f35c8d9d52403818e2b69f8d048889"
   }
  }
 },
 "nbformat": 4,
 "nbformat_minor": 2
}

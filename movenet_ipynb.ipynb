{
 "cells": [
  {
   "cell_type": "markdown",
   "metadata": {
    "id": "toCy3v03Dwx7"
   },
   "source": [
    "##### Copyright 2021 The TensorFlow Hub Authors.\n",
    "\n",
    "Licensed under the Apache License, Version 2.0 (the \"License\");"
   ]
  },
  {
   "cell_type": "code",
   "execution_count": 1,
   "metadata": {
    "id": "QKe-ubNcDvgv"
   },
   "outputs": [],
   "source": [
    "# Copyright 2021 The TensorFlow Hub Authors. All Rights Reserved.\n",
    "#\n",
    "# Licensed under the Apache License, Version 2.0 (the \"License\");\n",
    "# you may not use this file except in compliance with the License.\n",
    "# You may obtain a copy of the License at\n",
    "#\n",
    "#     http://www.apache.org/licenses/LICENSE-2.0\n",
    "#\n",
    "# Unless required by applicable law or agreed to in writing, software\n",
    "# distributed under the License is distributed on an \"AS IS\" BASIS,\n",
    "# WITHOUT WARRANTIES OR CONDITIONS OF ANY KIND, either express or implied.\n",
    "# See the License for the specific language governing permissions and\n",
    "# limitations under the License.\n",
    "# =============================================================================="
   ]
  },
  {
   "cell_type": "markdown",
   "metadata": {
    "id": "KqtQzBCpIJ7Y"
   },
   "source": [
    "# MoveNet：超快且准确的姿态检测模型"
   ]
  },
  {
   "cell_type": "markdown",
   "metadata": {
    "id": "MCmFOosnSkCd"
   },
   "source": [
    "<table class=\"tfo-notebook-buttons\" align=\"left\">\n",
    "  <td><a target=\"_blank\" href=\"https://tensorflow.google.cn/hub/tutorials/movenet\"><img src=\"https://tensorflow.google.cn/images/tf_logo_32px.png\">在 TensorFlow.org上查看</a></td>\n",
    "  <td><a target=\"_blank\" href=\"https://colab.research.google.com/github/tensorflow/docs-l10n/blob/master/site/zh-cn/hub/tutorials/movenet.ipynb\"><img src=\"https://tensorflow.google.cn/images/colab_logo_32px.png\">在 Google Colab 中运行</a></td>\n",
    "  <td><a target=\"_blank\" href=\"https://github.com/tensorflow/docs-l10n/blob/master/site/zh-cn/hub/tutorials/movenet.ipynb\">     <img src=\"https://tensorflow.google.cn/images/GitHub-Mark-32px.png\">     在 GitHub 上查看源代码</a></td>\n",
    "  <td>     <a href=\"https://storage.googleapis.com/tensorflow_docs/docs-l10n/site/zh-cn/hub/tutorials/movenet.ipynb\"><img src=\"https://tensorflow.google.cn/images/download_logo_32px.png\">下载笔记本</a>   </td>\n",
    "  <td>     <a href=\"https://tfhub.dev/s?q=movenet\"><img src=\"https://tensorflow.google.cn/images/hub_logo_32px.png\">查看 TF Hub 模型 </a>\n",
    "</td>\n",
    "</table>"
   ]
  },
  {
   "cell_type": "markdown",
   "metadata": {
    "id": "6x99e0aEY_d6"
   },
   "source": [
    "**[MoveNet](https://t.co/QpfnVL0YYI?amp=1)** 是一个超快且准确的模型，可检测身体的 17 个关键点。该模型在 [TF Hub](https://tfhub.dev/s?q=movenet) 上提供两种变体，分别为 Lightning 和 Thunder。Lightning 用于延迟关键型应用，而 Thunder 用于需要高准确性的应用。在大多数现代台式机、笔记本电脑和手机上，这两种模型的运行速度都快于实时 (30+ FPS)，这对于实时的健身、健康和保健应用至关重要。\n",
    "\n",
    "<img src=\"https://github.com/tensorflow/tfjs-models/raw/master/pose-detection/assets/combined_squat_dance.gif\" alt=\"drawing\" class=\"\">\n",
    "\n",
    "*图像下载自 Pexels (https://www.pexels.com/)\n",
    "\n",
    "本 Colab 将详细介绍如何加载 MoveNet，并对下面的输入图像和视频运行推断。\n",
    "\n",
    "注：请查看[实时演示](https://storage.googleapis.com/tfjs-models/demos/pose-detection/index.html?model=movenet)以了解该模型的工作原理！"
   ]
  },
  {
   "cell_type": "markdown",
   "metadata": {
    "id": "10_zkgbZBkIE"
   },
   "source": [
    "# 使用 MoveNet 进行人体姿态估计"
   ]
  },
  {
   "cell_type": "markdown",
   "metadata": {
    "id": "9u_VGR6_BmbZ"
   },
   "source": [
    "## 可视化库和导入"
   ]
  },
  {
   "cell_type": "code",
   "execution_count": 2,
   "metadata": {
    "colab": {
     "base_uri": "https://localhost:8080/"
    },
    "id": "TtcwSIcgbIVN",
    "outputId": "66d9ae7c-f1e4-42f2-d776-884162ff1fd7",
    "pycharm": {
     "is_executing": true
    }
   },
   "outputs": [],
   "source": [
    "# !pip install -q imageio\n",
    "# !pip install -q opencv-python\n",
    "# !pip install -q git+https://github.com/tensorflow/docs\n",
    "# !pip install imageio-ffmpeg"
   ]
  },
  {
   "cell_type": "code",
   "execution_count": 3,
   "metadata": {
    "id": "9BLeJv-pCCld",
    "pycharm": {
     "is_executing": true
    }
   },
   "outputs": [],
   "source": [
    "import tensorflow as tf\n",
    "import tensorflow_hub as hub\n",
    "from tensorflow_docs.vis import embed\n",
    "import numpy as np\n",
    "import cv2\n",
    "\n",
    "# Import matplotlib libraries\n",
    "from matplotlib import pyplot as plt\n",
    "from matplotlib.collections import LineCollection\n",
    "import matplotlib.patches as patches\n",
    "\n",
    "# Some modules to display an animation using imageio.\n",
    "import imageio\n",
    "from IPython.display import HTML, display"
   ]
  },
  {
   "cell_type": "code",
   "execution_count": 4,
   "metadata": {
    "id": "bEJBMeRb3YUy",
    "pycharm": {
     "is_executing": true
    }
   },
   "outputs": [],
   "source": [
    "#@title Helper functions for visualization\n",
    "\n",
    "# Dictionary that maps from joint names to keypoint indices.\n",
    "KEYPOINT_DICT = {\n",
    "    'nose': 0,\n",
    "    'left_eye': 1,\n",
    "    'right_eye': 2,\n",
    "    'left_ear': 3,\n",
    "    'right_ear': 4,\n",
    "    'left_shoulder': 5,\n",
    "    'right_shoulder': 6,\n",
    "    'left_elbow': 7,\n",
    "    'right_elbow': 8,\n",
    "    'left_wrist': 9,\n",
    "    'right_wrist': 10,\n",
    "    'left_hip': 11,\n",
    "    'right_hip': 12,\n",
    "    'left_knee': 13,\n",
    "    'right_knee': 14,\n",
    "    'left_ankle': 15,\n",
    "    'right_ankle': 16\n",
    "}\n",
    "\n",
    "# Maps bones to a matplotlib color name.\n",
    "KEYPOINT_EDGE_INDS_TO_COLOR = {\n",
    "    (0, 1): 'm',\n",
    "    (0, 2): 'c',\n",
    "    (1, 3): 'm',\n",
    "    (2, 4): 'c',\n",
    "    (0, 5): 'm',\n",
    "    (0, 6): 'c',\n",
    "    (5, 7): 'm',\n",
    "    (7, 9): 'm',\n",
    "    (6, 8): 'c',\n",
    "    (8, 10): 'c',\n",
    "    (5, 6): 'y',\n",
    "    (5, 11): 'm',\n",
    "    (6, 12): 'c',\n",
    "    (11, 12): 'y',\n",
    "    (11, 13): 'm',\n",
    "    (13, 15): 'm',\n",
    "    (12, 14): 'c',\n",
    "    (14, 16): 'c'\n",
    "}\n",
    "\n",
    "def _keypoints_and_edges_for_display(keypoints_with_scores,\n",
    "                                     height,\n",
    "                                     width,\n",
    "                                     keypoint_threshold=0.11):\n",
    "  \"\"\"Returns high confidence keypoints and edges for visualization.\n",
    "\n",
    "  Args:\n",
    "    keypoints_with_scores: A numpy array with shape [1, 1, 17, 3] representing\n",
    "      the keypoint coordinates and scores returned from the MoveNet model.\n",
    "    height: height of the image in pixels.\n",
    "    width: width of the image in pixels.\n",
    "    keypoint_threshold: minimum confidence score for a keypoint to be\n",
    "      visualized.\n",
    "\n",
    "  Returns:\n",
    "    A (keypoints_xy, edges_xy, edge_colors) containing:\n",
    "      * the coordinates of all keypoints of all detected entities;\n",
    "      * the coordinates of all skeleton edges of all detected entities;\n",
    "      * the colors in which the edges should be plotted.\n",
    "  \"\"\"\n",
    "  keypoints_all = []\n",
    "  keypoint_edges_all = []\n",
    "  edge_colors = []\n",
    "  num_instances, _, _, _ = keypoints_with_scores.shape\n",
    "  for idx in range(num_instances):\n",
    "    kpts_x = keypoints_with_scores[0, idx, :, 1]\n",
    "    kpts_y = keypoints_with_scores[0, idx, :, 0]\n",
    "    kpts_scores = keypoints_with_scores[0, idx, :, 2]\n",
    "    kpts_absolute_xy = np.stack(\n",
    "        [width * np.array(kpts_x), height * np.array(kpts_y)], axis=-1)\n",
    "    kpts_above_thresh_absolute = kpts_absolute_xy[\n",
    "        kpts_scores > keypoint_threshold, :]\n",
    "    keypoints_all.append(kpts_above_thresh_absolute)\n",
    "\n",
    "    for edge_pair, color in KEYPOINT_EDGE_INDS_TO_COLOR.items():\n",
    "      if (kpts_scores[edge_pair[0]] > keypoint_threshold and\n",
    "          kpts_scores[edge_pair[1]] > keypoint_threshold):\n",
    "        x_start = kpts_absolute_xy[edge_pair[0], 0]\n",
    "        y_start = kpts_absolute_xy[edge_pair[0], 1]\n",
    "        x_end = kpts_absolute_xy[edge_pair[1], 0]\n",
    "        y_end = kpts_absolute_xy[edge_pair[1], 1]\n",
    "        line_seg = np.array([[x_start, y_start], [x_end, y_end]])\n",
    "        keypoint_edges_all.append(line_seg)\n",
    "        edge_colors.append(color)\n",
    "  if keypoints_all:\n",
    "    keypoints_xy = np.concatenate(keypoints_all, axis=0)\n",
    "  else:\n",
    "    keypoints_xy = np.zeros((0, 17, 2))\n",
    "\n",
    "  if keypoint_edges_all:\n",
    "    edges_xy = np.stack(keypoint_edges_all, axis=0)\n",
    "  else:\n",
    "    edges_xy = np.zeros((0, 2, 2))\n",
    "  return keypoints_xy, edges_xy, edge_colors\n",
    "\n",
    "\n",
    "def draw_prediction_on_image(\n",
    "    image, keypoints_with_scores, crop_region=None, close_figure=False,\n",
    "    output_image_height=None):\n",
    "  \"\"\"Draws the keypoint predictions on image.\n",
    "\n",
    "  Args:\n",
    "    image: A numpy array with shape [height, width, channel] representing the\n",
    "      pixel values of the input image.\n",
    "    keypoints_with_scores: A numpy array with shape [1, 1, 17, 3] representing\n",
    "      the keypoint coordinates and scores returned from the MoveNet model.\n",
    "    crop_region: A dictionary that defines the coordinates of the bounding box\n",
    "      of the crop region in normalized coordinates (see the init_crop_region\n",
    "      function below for more detail). If provided, this function will also\n",
    "      draw the bounding box on the image.\n",
    "    output_image_height: An integer indicating the height of the output image.\n",
    "      Note that the image aspect ratio will be the same as the input image.\n",
    "\n",
    "  Returns:\n",
    "    A numpy array with shape [out_height, out_width, channel] representing the\n",
    "    image overlaid with keypoint predictions.\n",
    "  \"\"\"\n",
    "  height, width, channel = image.shape\n",
    "  aspect_ratio = float(width) / height\n",
    "  fig, ax = plt.subplots(figsize=(12 * aspect_ratio, 12))\n",
    "  # To remove the huge white borders\n",
    "  fig.tight_layout(pad=0)\n",
    "  ax.margins(0)\n",
    "  ax.set_yticklabels([])\n",
    "  ax.set_xticklabels([])\n",
    "  plt.axis('off')\n",
    "\n",
    "  im = ax.imshow(image)\n",
    "  line_segments = LineCollection([], linewidths=(4), linestyle='solid')\n",
    "  ax.add_collection(line_segments)\n",
    "  # Turn off tick labels\n",
    "  scat = ax.scatter([], [], s=60, color='#FF1493', zorder=3)\n",
    "\n",
    "  (keypoint_locs, keypoint_edges,\n",
    "   edge_colors) = _keypoints_and_edges_for_display(\n",
    "       keypoints_with_scores, height, width)\n",
    "\n",
    "  line_segments.set_segments(keypoint_edges)\n",
    "  line_segments.set_color(edge_colors)\n",
    "  if keypoint_edges.shape[0]:\n",
    "    line_segments.set_segments(keypoint_edges)\n",
    "    line_segments.set_color(edge_colors)\n",
    "  if keypoint_locs.shape[0]:\n",
    "    scat.set_offsets(keypoint_locs)\n",
    "\n",
    "  if crop_region is not None:\n",
    "    xmin = max(crop_region['x_min'] * width, 0.0)\n",
    "    ymin = max(crop_region['y_min'] * height, 0.0)\n",
    "    rec_width = min(crop_region['x_max'], 0.99) * width - xmin\n",
    "    rec_height = min(crop_region['y_max'], 0.99) * height - ymin\n",
    "    rect = patches.Rectangle(\n",
    "        (xmin,ymin),rec_width,rec_height,\n",
    "        linewidth=1,edgecolor='b',facecolor='none')\n",
    "    ax.add_patch(rect)\n",
    "\n",
    "  fig.canvas.draw()\n",
    "  image_from_plot = np.frombuffer(fig.canvas.tostring_rgb(), dtype=np.uint8)\n",
    "  image_from_plot = image_from_plot.reshape(\n",
    "      fig.canvas.get_width_height()[::-1] + (3,))\n",
    "  plt.close(fig)\n",
    "  if output_image_height is not None:\n",
    "    output_image_width = int(output_image_height / height * width)\n",
    "    image_from_plot = cv2.resize(\n",
    "        image_from_plot, dsize=(output_image_width, output_image_height),\n",
    "         interpolation=cv2.INTER_CUBIC)\n",
    "  return image_from_plot\n",
    "\n",
    "def to_mp4(name, images, fps):\n",
    "  \"\"\"Converts image sequence (4D numpy array) to mp4.\"\"\"\n",
    "  file_name = './standard_pose/' + name + '_with_Skeleton.mp4'\n",
    "  imageio.mimsave(file_name, images, fps=fps)\n",
    "  return embed.embed_file(file_name)\n",
    "\n",
    "def progress(value, max=100):\n",
    "  return HTML(\"\"\"\n",
    "      <progress\n",
    "          value='{value}'\n",
    "          max='{max}',\n",
    "          style='width: 100%'\n",
    "      >\n",
    "          {value}\n",
    "      </progress>\n",
    "  \"\"\".format(value=value, max=max))\n",
    "\n",
    "def to_txt(name, kpoints):\n",
    "  kpoints_reshaped = np.array(kpoints)\n",
    "  kpoints_reshaped = kpoints_reshaped.reshape((kpoints_reshaped.shape[0],17,3))\n",
    "  file = \"./standard_pose/\" + name + \".txt\"\n",
    "  np.savetxt(file, kpoints_reshaped.reshape(kpoints_reshaped.shape[0], -1))\n",
    "  return None"
   ]
  },
  {
   "cell_type": "markdown",
   "metadata": {
    "id": "UvrN0iQiOxhR"
   },
   "source": [
    "## 从 TF hub 加载模型"
   ]
  },
  {
   "cell_type": "code",
   "execution_count": 5,
   "metadata": {
    "id": "zeGHgANcT7a1",
    "pycharm": {
     "is_executing": true
    }
   },
   "outputs": [],
   "source": [
    "model_name = \"movenet_thunder\" #@param [\"movenet_lightning\", \"movenet_thunder\", \"movenet_lightning_f16.tflite\", \"movenet_thunder_f16.tflite\", \"movenet_lightning_int8.tflite\", \"movenet_thunder_int8.tflite\"]\n",
    "\n",
    "if \"tflite\" in model_name:\n",
    "  if \"movenet_lightning_f16\" in model_name:\n",
    "    !wget -q -O model.tflite https://tfhub.dev/google/lite-model/movenet/singlepose/lightning/tflite/float16/4?lite-format=tflite\n",
    "    input_size = 192\n",
    "  elif \"movenet_thunder_f16\" in model_name:\n",
    "    !wget -q -O model.tflite https://tfhub.dev/google/lite-model/movenet/singlepose/thunder/tflite/float16/4?lite-format=tflite\n",
    "    input_size = 256\n",
    "  elif \"movenet_lightning_int8\" in model_name:\n",
    "    !wget -q -O model.tflite https://tfhub.dev/google/lite-model/movenet/singlepose/lightning/tflite/int8/4?lite-format=tflite\n",
    "    input_size = 192\n",
    "  elif \"movenet_thunder_int8\" in model_name:\n",
    "    !wget -q -O model.tflite https://tfhub.dev/google/lite-model/movenet/singlepose/thunder/tflite/int8/4?lite-format=tflite\n",
    "    input_size = 256\n",
    "  else:\n",
    "    raise ValueError(\"Unsupported model name: %s\" % model_name)\n",
    "\n",
    "  # Initialize the TFLite interpreter\n",
    "  interpreter = tf.lite.Interpreter(model_path=\"model.tflite\")\n",
    "  interpreter.allocate_tensors()\n",
    "\n",
    "  def movenet(input_image):\n",
    "    \"\"\"Runs detection on an input image.\n",
    "\n",
    "    Args:\n",
    "      input_image: A [1, height, width, 3] tensor represents the input image\n",
    "        pixels. Note that the height/width should already be resized and match the\n",
    "        expected input resolution of the model before passing into this function.\n",
    "\n",
    "    Returns:\n",
    "      A [1, 1, 17, 3] float numpy array representing the predicted keypoint\n",
    "      coordinates and scores.\n",
    "    \"\"\"\n",
    "    # TF Lite format expects tensor type of uint8.\n",
    "    input_image = tf.cast(input_image, dtype=tf.uint8)\n",
    "    input_details = interpreter.get_input_details()\n",
    "    output_details = interpreter.get_output_details()\n",
    "    interpreter.set_tensor(input_details[0]['index'], input_image.numpy())\n",
    "    # Invoke inference.\n",
    "    interpreter.invoke()\n",
    "    # Get the model prediction.\n",
    "    keypoints_with_scores = interpreter.get_tensor(output_details[0]['index'])\n",
    "    return keypoints_with_scores\n",
    "\n",
    "else:\n",
    "  if \"movenet_lightning\" in model_name:\n",
    "    module = hub.load(\"https://tfhub.dev/google/movenet/singlepose/lightning/4\")\n",
    "    input_size = 192\n",
    "  elif \"movenet_thunder\" in model_name:\n",
    "    module = hub.load(\"https://tfhub.dev/google/movenet/singlepose/thunder/4\")\n",
    "    input_size = 256\n",
    "  else:\n",
    "    raise ValueError(\"Unsupported model name: %s\" % model_name)\n",
    "\n",
    "  def movenet(input_image):\n",
    "    \"\"\"Runs detection on an input image.\n",
    "\n",
    "    Args:\n",
    "      input_image: A [1, height, width, 3] tensor represents the input image\n",
    "        pixels. Note that the height/width should already be resized and match the\n",
    "        expected input resolution of the model before passing into this function.\n",
    "\n",
    "    Returns:\n",
    "      A [1, 1, 17, 3] float numpy array representing the predicted keypoint\n",
    "      coordinates and scores.\n",
    "    \"\"\"\n",
    "    model = module.signatures['serving_default']\n",
    "\n",
    "    # SavedModel format expects tensor type of int32.\n",
    "    input_image = tf.cast(input_image, dtype=tf.int32)\n",
    "    # Run model inference.\n",
    "    outputs = model(input_image)\n",
    "    # Output is a [1, 1, 17, 3] tensor.\n",
    "    keypoints_with_scores = outputs['output_0'].numpy()\n",
    "    return keypoints_with_scores"
   ]
  },
  {
   "cell_type": "markdown",
   "metadata": {
    "id": "-h1qHYaqD9ap"
   },
   "source": [
    "## 单个图像示例"
   ]
  },
  {
   "cell_type": "markdown",
   "metadata": {
    "id": "ymTVR2I9x22I"
   },
   "source": [
    "本节演示对**单个图像**运行模型以预测 17 个人体关键点的最小工作示例。"
   ]
  },
  {
   "cell_type": "markdown",
   "metadata": {
    "id": "5I3xBq80E3N_"
   },
   "source": [
    "### 加载输入图像"
   ]
  },
  {
   "cell_type": "code",
   "execution_count": 6,
   "metadata": {
    "id": "lJZYQ8KYFQ6x",
    "pycharm": {
     "is_executing": true
    }
   },
   "outputs": [],
   "source": [
    "# # Load the input image.\n",
    "# image_path = '/content/drive/MyDrive/test2.jpg'\n",
    "# image = tf.io.read_file(image_path)\n",
    "# image = tf.image.decode_jpeg(image)"
   ]
  },
  {
   "cell_type": "markdown",
   "metadata": {
    "id": "S_UWRdQxE6WN"
   },
   "source": [
    "### 运行推断"
   ]
  },
  {
   "cell_type": "code",
   "execution_count": 7,
   "metadata": {
    "colab": {
     "base_uri": "https://localhost:8080/",
     "height": 303
    },
    "id": "VHmTwACwFW-v",
    "outputId": "0efc4f9a-b3d7-4db4-a5b1-56ebf854c8af",
    "pycharm": {
     "is_executing": true
    }
   },
   "outputs": [],
   "source": [
    "# # Resize and pad the image to keep the aspect ratio and fit the expected size.\n",
    "# input_image = tf.expand_dims(image, axis=0)\n",
    "# input_image = tf.image.resize_with_pad(input_image, input_size, input_size)\n",
    "\n",
    "# # Using the file writer, log the reshaped image.\n",
    "# with file_writer.as_default():\n",
    "#   tf.summary.image(\"Training data\", input_image, step=0)\n",
    "\n",
    "# # Run model inference.\n",
    "# keypoints_with_scores = movenet(input_image)\n",
    "\n",
    "# # Visualize the predictions with image.\n",
    "# display_image = tf.expand_dims(image, axis=0)\n",
    "# display_image = tf.cast(tf.image.resize_with_pad(\n",
    "#     display_image, 1280, 1280), dtype=tf.int32)\n",
    "# output_overlay = draw_prediction_on_image(\n",
    "#     np.squeeze(display_image.numpy(), axis=0), keypoints_with_scores)\n",
    "\n",
    "# plt.figure(figsize=(5, 5))\n",
    "# plt.imshow(output_overlay)\n",
    "# _ = plt.axis('off')"
   ]
  },
  {
   "cell_type": "markdown",
   "metadata": {
    "id": "rKm-B0eMYeg8"
   },
   "source": [
    "## 视频（图像序列）示例"
   ]
  },
  {
   "cell_type": "markdown",
   "metadata": {
    "id": "gdPFXabLyiKv"
   },
   "source": [
    "本节演示当输入为帧序列时，如何根据前一帧的检测结果应用智能裁剪。这样模型可以将注意力和资源投入到主要主题上，从而在不牺牲速度的情况下获得更好的预测质量。\n"
   ]
  },
  {
   "cell_type": "code",
   "execution_count": 8,
   "metadata": {
    "id": "SYFdK-JHYhrv",
    "pycharm": {
     "is_executing": true
    }
   },
   "outputs": [],
   "source": [
    "#@title Cropping Algorithm\n",
    "\n",
    "# Confidence score to determine whether a keypoint prediction is reliable.\n",
    "MIN_CROP_KEYPOINT_SCORE = 0.5\n",
    "\n",
    "def init_crop_region(image_height, image_width):\n",
    "  \"\"\"Defines the default crop region.\n",
    "\n",
    "  The function provides the initial crop region (pads the full image from both\n",
    "  sides to make it a square image) when the algorithm cannot reliably determine\n",
    "  the crop region from the previous frame.\n",
    "  \"\"\"\n",
    "  if image_width > image_height:\n",
    "    box_height = image_width / image_height\n",
    "    box_width = 1.0\n",
    "    y_min = (image_height / 2 - image_width / 2) / image_height\n",
    "    x_min = 0.0\n",
    "  else:\n",
    "    box_height = 1.0\n",
    "    box_width = image_height / image_width\n",
    "    y_min = 0.0\n",
    "    x_min = (image_width / 2 - image_height / 2) / image_width\n",
    "\n",
    "  return {\n",
    "    'y_min': y_min,\n",
    "    'x_min': x_min,\n",
    "    'y_max': y_min + box_height,\n",
    "    'x_max': x_min + box_width,\n",
    "    'height': box_height,\n",
    "    'width': box_width\n",
    "  }\n",
    "\n",
    "def torso_visible(keypoints):\n",
    "  \"\"\"Checks whether there are enough torso keypoints.\n",
    "\n",
    "  This function checks whether the model is confident at predicting one of the\n",
    "  shoulders/hips which is required to determine a good crop region.\n",
    "  \"\"\"\n",
    "  return ((keypoints[0, 0, KEYPOINT_DICT['left_hip'], 2] >\n",
    "           MIN_CROP_KEYPOINT_SCORE or\n",
    "          keypoints[0, 0, KEYPOINT_DICT['right_hip'], 2] >\n",
    "           MIN_CROP_KEYPOINT_SCORE) and\n",
    "          (keypoints[0, 0, KEYPOINT_DICT['left_shoulder'], 2] >\n",
    "           MIN_CROP_KEYPOINT_SCORE or\n",
    "          keypoints[0, 0, KEYPOINT_DICT['right_shoulder'], 2] >\n",
    "           MIN_CROP_KEYPOINT_SCORE))\n",
    "\n",
    "def determine_torso_and_body_range(\n",
    "    keypoints, target_keypoints, center_y, center_x):\n",
    "  \"\"\"Calculates the maximum distance from each keypoints to the center location.\n",
    "\n",
    "  The function returns the maximum distances from the two sets of keypoints:\n",
    "  full 17 keypoints and 4 torso keypoints. The returned information will be\n",
    "  used to determine the crop size. See determineCropRegion for more detail.\n",
    "  \"\"\"\n",
    "  torso_joints = ['left_shoulder', 'right_shoulder', 'left_hip', 'right_hip']\n",
    "  max_torso_yrange = 0.0\n",
    "  max_torso_xrange = 0.0\n",
    "  for joint in torso_joints:\n",
    "    dist_y = abs(center_y - target_keypoints[joint][0])\n",
    "    dist_x = abs(center_x - target_keypoints[joint][1])\n",
    "    if dist_y > max_torso_yrange:\n",
    "      max_torso_yrange = dist_y\n",
    "    if dist_x > max_torso_xrange:\n",
    "      max_torso_xrange = dist_x\n",
    "\n",
    "  max_body_yrange = 0.0\n",
    "  max_body_xrange = 0.0\n",
    "  for joint in KEYPOINT_DICT.keys():\n",
    "    if keypoints[0, 0, KEYPOINT_DICT[joint], 2] < MIN_CROP_KEYPOINT_SCORE:\n",
    "      continue\n",
    "    dist_y = abs(center_y - target_keypoints[joint][0]);\n",
    "    dist_x = abs(center_x - target_keypoints[joint][1]);\n",
    "    if dist_y > max_body_yrange:\n",
    "      max_body_yrange = dist_y\n",
    "\n",
    "    if dist_x > max_body_xrange:\n",
    "      max_body_xrange = dist_x\n",
    "\n",
    "  return [max_torso_yrange, max_torso_xrange, max_body_yrange, max_body_xrange]\n",
    "\n",
    "def determine_crop_region(\n",
    "      keypoints, image_height,\n",
    "      image_width):\n",
    "  \"\"\"Determines the region to crop the image for the model to run inference on.\n",
    "\n",
    "  The algorithm uses the detected joints from the previous frame to estimate\n",
    "  the square region that encloses the full body of the target person and\n",
    "  centers at the midpoint of two hip joints. The crop size is determined by\n",
    "  the distances between each joints and the center point.\n",
    "  When the model is not confident with the four torso joint predictions, the\n",
    "  function returns a default crop which is the full image padded to square.\n",
    "  \"\"\"\n",
    "  target_keypoints = {}\n",
    "  for joint in KEYPOINT_DICT.keys():\n",
    "    target_keypoints[joint] = [\n",
    "      keypoints[0, 0, KEYPOINT_DICT[joint], 0] * image_height,\n",
    "      keypoints[0, 0, KEYPOINT_DICT[joint], 1] * image_width\n",
    "    ]\n",
    "\n",
    "  if torso_visible(keypoints):\n",
    "    center_y = (target_keypoints['left_hip'][0] +\n",
    "                target_keypoints['right_hip'][0]) / 2;\n",
    "    center_x = (target_keypoints['left_hip'][1] +\n",
    "                target_keypoints['right_hip'][1]) / 2;\n",
    "\n",
    "    (max_torso_yrange, max_torso_xrange,\n",
    "      max_body_yrange, max_body_xrange) = determine_torso_and_body_range(\n",
    "          keypoints, target_keypoints, center_y, center_x)\n",
    "\n",
    "    crop_length_half = np.amax(\n",
    "        [max_torso_xrange * 1.9, max_torso_yrange * 1.9,\n",
    "          max_body_yrange * 1.2, max_body_xrange * 1.2])\n",
    "\n",
    "    tmp = np.array(\n",
    "        [center_x, image_width - center_x, center_y, image_height - center_y])\n",
    "    crop_length_half = np.amin(\n",
    "        [crop_length_half, np.amax(tmp)]);\n",
    "\n",
    "    crop_corner = [center_y - crop_length_half, center_x - crop_length_half];\n",
    "\n",
    "    if crop_length_half > max(image_width, image_height) / 2:\n",
    "      return init_crop_region(image_height, image_width)\n",
    "    else:\n",
    "      crop_length = crop_length_half * 2;\n",
    "      return {\n",
    "        'y_min': crop_corner[0] / image_height,\n",
    "        'x_min': crop_corner[1] / image_width,\n",
    "        'y_max': (crop_corner[0] + crop_length) / image_height,\n",
    "        'x_max': (crop_corner[1] + crop_length) / image_width,\n",
    "        'height': (crop_corner[0] + crop_length) / image_height -\n",
    "            crop_corner[0] / image_height,\n",
    "        'width': (crop_corner[1] + crop_length) / image_width -\n",
    "            crop_corner[1] / image_width\n",
    "      }\n",
    "  else:\n",
    "    return init_crop_region(image_height, image_width)\n",
    "\n",
    "def crop_and_resize(image, crop_region, crop_size):\n",
    "  \"\"\"Crops and resize the image to prepare for the model input.\"\"\"\n",
    "  boxes=[[crop_region['y_min'], crop_region['x_min'],\n",
    "          crop_region['y_max'], crop_region['x_max']]]\n",
    "  output_image = tf.image.crop_and_resize(\n",
    "      image, box_indices=[0], boxes=boxes, crop_size=crop_size)\n",
    "  return output_image\n",
    "\n",
    "def run_inference(movenet, image, crop_region, crop_size):\n",
    "  \"\"\"Runs model inferece on the cropped region.\n",
    "\n",
    "  The function runs the model inference on the cropped region and updates the\n",
    "  model output to the original image coordinate system.\n",
    "  \"\"\"\n",
    "  image_height, image_width, _ = image.shape\n",
    "  input_image = crop_and_resize(\n",
    "    tf.expand_dims(image, axis=0), crop_region, crop_size=crop_size)\n",
    "  # Run model inference.\n",
    "  keypoints_with_scores = movenet(input_image)\n",
    "  # Update the coordinates.\n",
    "  for idx in range(17):\n",
    "    keypoints_with_scores[0, 0, idx, 0] = (\n",
    "        crop_region['y_min'] * image_height +\n",
    "        crop_region['height'] * image_height *\n",
    "        keypoints_with_scores[0, 0, idx, 0]) / image_height\n",
    "    keypoints_with_scores[0, 0, idx, 1] = (\n",
    "        crop_region['x_min'] * image_width +\n",
    "        crop_region['width'] * image_width *\n",
    "        keypoints_with_scores[0, 0, idx, 1]) / image_width\n",
    "  return keypoints_with_scores"
   ]
  },
  {
   "cell_type": "markdown",
   "metadata": {
    "id": "L2JmA1xAEntQ"
   },
   "source": [
    "### 加载输入图像序列"
   ]
  },
  {
   "cell_type": "markdown",
   "metadata": {
    "id": "CJKeQ4siEtU9"
   },
   "source": [
    "### 使用裁剪算法运行推断"
   ]
  },
  {
   "cell_type": "code",
   "execution_count": 9,
   "metadata": {
    "colab": {
     "base_uri": "https://localhost:8080/",
     "height": 539
    },
    "id": "9B57XS0NZPIy",
    "outputId": "dbd3462e-066b-4672-fe1c-537cad369304",
    "pycharm": {
     "is_executing": true
    }
   },
   "outputs": [
    {
     "name": "stderr",
     "output_type": "stream",
     "text": [
      "WARNING:imageio_ffmpeg:IMAGEIO FFMPEG_WRITER WARNING: input image is not divisible by macro_block_size=16, resizing from (168, 300) to (176, 304) to ensure video compatibility with most codecs and players. To prevent resizing, make your input image divisible by the macro_block_size or set the macro_block_size to 1 (risking incompatibility).\n"
     ]
    },
    {
     "name": "stdout",
     "output_type": "stream",
     "text": [
      "(45, 17, 3)\n"
     ]
    }
   ],
   "source": [
    "import cv2\n",
    "import os\n",
    "# Load the input image.\n",
    "# pose_list = [\"Push-Up\", \"Sit-Up\", \"Squat\", \"Pull-Up\", \"Plank\", \"Jumping-Jack\"]\n",
    "# for pose in pose_list:\n",
    "# image_path = './pose_gif/' + pose + '.mp4'\n",
    "pose = \"Squat\"\n",
    "image_path = './sample/' + pose + '.mp4'\n",
    "cap = cv2.VideoCapture(image_path)\n",
    "num_frames = int(cap.get(cv2.CAP_PROP_FRAME_COUNT))\n",
    "\n",
    "hasFrame, frame = cap.read()\n",
    "image_height, image_width, _ = frame.shape\n",
    "crop_region = init_crop_region(image_height, image_width)\n",
    "\n",
    "output_images = []\n",
    "kpoints = []\n",
    "while hasFrame:\n",
    "    keypoints_with_scores = run_inference(\n",
    "        movenet, frame, crop_region,\n",
    "        crop_size=[input_size, input_size])\n",
    "    frame_drawn = draw_prediction_on_image(\n",
    "        frame,\n",
    "        keypoints_with_scores, crop_region=None,\n",
    "        close_figure=True, output_image_height=300)\n",
    "    output_images.append(frame_drawn)\n",
    "    crop_region = determine_crop_region(\n",
    "        keypoints_with_scores, image_height, image_width)\n",
    "    kpoints.append(keypoints_with_scores)\n",
    "    hasFrame, frame = cap.read()\n",
    "    hasFrame, frame = cap.read()\n",
    "    hasFrame, frame = cap.read()\n",
    "    # hasFrame, frame = cap.read()\n",
    "\n",
    "# Prepare gif visualization.\n",
    "output = np.stack(output_images, axis=0)\n",
    "# to_mp4(output, output, fps=5)\n",
    "imageio.mimsave(\"out.mp4\", output, fps=5)\n",
    "# to_txt(pose, kpoints)\n",
    "# image_height, image_width, _ = output_images[0].shape\n",
    "# print(image_height)\n",
    "# print(image_width)\n",
    "# vid_writer = cv2.VideoWriter('output.mp4',cv2.VideoWriter_fourcc('M','J','P','G'), 10, (image_width, image_height), True)\n",
    "# for frame in output_images:\n",
    "#   vid_writer.write(frame)\n",
    "# vid_writer.release()\n",
    "kpoints = np.array(kpoints)\n",
    "kpoints = kpoints.reshape((kpoints.shape[0], 17, 3))\n",
    "print(kpoints.shape)"
   ]
  },
  {
   "cell_type": "code",
   "execution_count": 10,
   "metadata": {},
   "outputs": [
    {
     "name": "stdout",
     "output_type": "stream",
     "text": [
      "(19, 17, 3)\n"
     ]
    }
   ],
   "source": [
    "pose_name = \"Squat\"\n",
    "file = \"./standard_pose/\" + pose_name + \".txt\"\n",
    "loaded_kpoints = np.loadtxt(file)\n",
    "standard = loaded_kpoints.reshape(\n",
    "        loaded_kpoints.shape[0], loaded_kpoints.shape[1] // 3, 3)\n",
    "print(standard.shape)\n",
    "# from comparator import Encoder\n",
    "# t = Encoder()"
   ]
  },
  {
   "cell_type": "code",
   "execution_count": 11,
   "metadata": {},
   "outputs": [
    {
     "name": "stdout",
     "output_type": "stream",
     "text": [
      "dict_keys(['Push-Up', 'Sit-Up', 'Squat', 'Pull-Up', 'Plank', 'Jumping-Jack'])\n",
      "nose 943 871 1.0826636050516647\n",
      "left_eye 933 858 1.0874125874125875\n",
      "right_eye 919 859 1.069848661233993\n",
      "left_ear 889 830 1.0710843373493977\n",
      "right_ear 886 830 1.0674698795180724\n",
      "left_shoulder 768 752 1.0212765957446808\n",
      "right_shoulder 813 764 1.0641361256544504\n",
      "left_elbow 819 789 1.038022813688213\n",
      "right_elbow 882 809 1.0902348578491965\n",
      "left_wrist 682 728 0.9368131868131868\n",
      "right_wrist 678 716 0.946927374301676\n",
      "left_hip 441 524 0.8416030534351145\n",
      "right_hip 432 512 0.84375\n",
      "left_knee 340 342 0.9941520467836257\n",
      "right_knee 286 287 0.9965156794425087\n",
      "left_ankle 225 169 1.331360946745562\n",
      "right_ankle 220 172 1.2790697674418605\n",
      "{'nose': 87, 'left_eye': 87, 'right_eye': 89, 'left_ear': 88, 'right_ear': 89, 'left_shoulder': 93, 'right_shoulder': 88, 'left_elbow': 81, 'right_elbow': 81, 'left_wrist': 40, 'right_wrist': 38, 'left_hip': 81, 'right_hip': 82, 'left_knee': 73, 'right_knee': 58, 'left_ankle': 68, 'right_ankle': 55}\n",
      "{'nose': -1.073, 'left_eye': -1.06, 'right_eye': -0.89, 'left_ear': -0.939, 'right_ear': -0.859, 'left_shoulder': -0.484, 'right_shoulder': -0.862, 'left_elbow': -1.39, 'right_elbow': -1.463, 'left_wrist': -3.85, 'right_wrist': -3.933, 'left_hip': -0.835, 'right_hip': -0.773, 'left_knee': -0.838, 'right_knee': -1.097, 'left_ankle': -0.574, 'right_ankle': -0.803}\n",
      "78.27559843451351\n",
      "{'right_wrist': -3.933, 'left_wrist': -3.85, 'right_elbow': -1.463}\n"
     ]
    }
   ],
   "source": [
    "from comparator import Comparator\n",
    "comp = Comparator(standard, kpoints)\n",
    "totalScore, jointsScore = comp.score()\n",
    "print(jointsScore)\n",
    "worstThree = sorted(jointsScore.items())[0:3]\n",
    "print(totalScore)\n",
    "# print(sorted(jointsScore.items(), key=lambda pair: pair[1],reverse=True)[-3:])\n",
    "worstThree = dict(sorted(jointsScore.items(), key=lambda pair: pair[1])[:3])\n",
    "print(worstThree)"
   ]
  },
  {
   "cell_type": "code",
   "execution_count": 13,
   "metadata": {},
   "outputs": [
    {
     "name": "stdout",
     "output_type": "stream",
     "text": [
      "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\n"
     ]
    }
   ],
   "source": [
    "import base64\n",
    "with open('output2.mp4', 'rb') as f:\n",
    "        output = f.read()\n",
    "\n",
    "    # return send_file(io.BytesIO(output), mimetype=\"video/x-msvideo\")\n",
    "encoded_string = base64.b64encode(output).decode()\n",
    "print(encoded_string)"
   ]
  }
 ],
 "metadata": {
  "colab": {
   "collapsed_sections": [
    "toCy3v03Dwx7",
    "KqtQzBCpIJ7Y"
   ],
   "provenance": []
  },
  "gpuClass": "standard",
  "kernelspec": {
   "display_name": "Python 3 (ipykernel)",
   "language": "python",
   "name": "python3"
  },
  "language_info": {
   "codemirror_mode": {
    "name": "ipython",
    "version": 3
   },
   "file_extension": ".py",
   "mimetype": "text/x-python",
   "name": "python",
   "nbconvert_exporter": "python",
   "pygments_lexer": "ipython3",
   "version": "3.9.7"
  },
  "vscode": {
   "interpreter": {
    "hash": "741c14132be891c5418cb0d652a6ae4ab31156f7e1b70d6781a342bab84a1180"
   }
  }
 },
 "nbformat": 4,
 "nbformat_minor": 1
}
